{
  "nbformat": 4,
  "nbformat_minor": 0,
  "metadata": {
    "colab": {
      "provenance": []
    },
    "kernelspec": {
      "name": "python3",
      "display_name": "Python 3"
    },
    "language_info": {
      "name": "python"
    }
  },
  "cells": [
    {
      "cell_type": "markdown",
      "source": [
        "Importing libraries "
      ],
      "metadata": {
        "id": "1xVmLxdPPOlN"
      }
    },
    {
      "cell_type": "code",
      "execution_count": null,
      "metadata": {
        "id": "_gcbLt_EVTqz"
      },
      "outputs": [],
      "source": [
        "import pandas as pd\n",
        "import numpy as np\n",
        "import matplotlib.pyplot as plt\n",
        "import seaborn as sns"
      ]
    },
    {
      "cell_type": "code",
      "source": [
        "#read excel file\n",
        "df = pd.read_excel('/content/drive/MyDrive/bamboo reponses.xlsx')"
      ],
      "metadata": {
        "id": "LwFUqT_IefQP"
      },
      "execution_count": null,
      "outputs": []
    },
    {
      "cell_type": "code",
      "source": [
        "# remove some non important columns like Email - name - etc..\n",
        "df = df.drop('Email Address',axis = 1)\n",
        "df = df.drop('Timestamp',axis = 1)\n",
        "df = df.drop('Name',axis = 1)\n",
        "df = df.drop('Any other feedback',axis = 1)\n"
      ],
      "metadata": {
        "id": "A9K4hj98gWNM"
      },
      "execution_count": null,
      "outputs": []
    },
    {
      "cell_type": "code",
      "source": [
        "#renaming some columns as they have very long descriptions \n",
        "df = df.rename(columns={\"Which of the following bamboo products are you aware of that are used in day to day life at your home, town and village?\": \"products\"})\n",
        "df = df.rename(columns={\"How frequently do you purchase the type of bamboo products listed below?\\nThe drop down describe the frequency types (based on the usage): \\nSeasonal (eg: bamboo fibre in winters)\\nFestivals and and Occasions (for religious purposes)\\nChoose\\n\": \"frequency\"})\n",
        "df = df.rename(columns={df.columns[22]: 'class'})\n",
        "df = df.rename(columns={df.columns[9]: 'build_material_rating'})\n",
        "df = df.rename(columns={df.columns[10]: 'texture_rating'})\n",
        "df = df.rename(columns={df.columns[11]: 'performance_rating'})\n",
        "df = df.rename(columns={df.columns[12]: 'reliability_rating'})\n",
        "df = df.rename(columns={df.columns[13]: 'features_rating'})\n",
        "df = df.rename(columns={df.columns[23]: 'rating_subscription_service'})\n",
        "df = df.rename(columns={df.columns[25]: 'subscription_fees_suggestions'})\n",
        "df = df.rename(columns={df.columns[26]: 'toxicity_aware'})\n",
        "df = df.rename(columns={df.columns[27]: 'utilizing_bamboo_in_home'})\n",
        "df = df.rename(columns={df.columns[28]: 'upliftment_bamboo_industry'})\n",
        "\n",
        "lis = [\"Breakable nature of bamboo products.\"\t,\n",
        "\"Resembled as poor man's product\"\t,\n",
        "\"Available of other competitive products which are more durable.\"\t,\n",
        "\"Maintenance issues\"\t,\n",
        "\"Non availability of desired bamboo products in near market\"\t,\n",
        "\"Lack or no variety of products\"\t,\n",
        "\"Poor marketing of these products.\"\t,\n",
        "\"Poor build and usage quality of bamboo products\"]\n",
        "count = 14\n",
        "for i in lis:\n",
        "  df = df.rename(columns={df.columns[count]: f'{i}'})\n",
        "  count +=1\n",
        "\n",
        "df = df.rename(columns={df.columns[24]: 'membership_features'})\n",
        "\n"
      ],
      "metadata": {
        "id": "b7ZG3QK2_uxt"
      },
      "execution_count": null,
      "outputs": []
    },
    {
      "cell_type": "code",
      "source": [
        "df = df.drop('products',axis = 1)\n",
        "df = df.drop('membership_features',axis = 1)\n",
        "df = df.drop('State',axis = 1)"
      ],
      "metadata": {
        "id": "2-lA2FVtIrG9"
      },
      "execution_count": null,
      "outputs": []
    },
    {
      "cell_type": "code",
      "source": [
        "#let's explore the sheet after renaming and dropping columns\n",
        "df"
      ],
      "metadata": {
        "id": "iHCcMX82Jd1j",
        "colab": {
          "base_uri": "https://localhost:8080/",
          "height": 1000
        },
        "outputId": "747a2871-0458-4f6b-f6e2-a2e78a022e09"
      },
      "execution_count": null,
      "outputs": [
        {
          "output_type": "execute_result",
          "data": {
            "text/plain": [
              "    Gender    Age          Education Level         Location Type  \\\n",
              "0     Male  29-40  Post Graduate and above          Urban (City)   \n",
              "1     Male  18-28                 Graduate  Sub Urban (Township)   \n",
              "2     Male  18-28                 Graduate       Rural (Village)   \n",
              "3     Male  29-40  Post Graduate and above          Urban (City)   \n",
              "4     Male  18-28                 Graduate  Sub Urban (Township)   \n",
              "..     ...    ...                      ...                   ...   \n",
              "194   Male  18-28           Under Graduate          Urban (City)   \n",
              "195   Male  18-28        Below High School          Urban (City)   \n",
              "196   Male  29-40  Post Graduate and above  Sub Urban (Township)   \n",
              "197   Male  18-28  Post Graduate and above          Urban (City)   \n",
              "198   Male  18-28           Under Graduate          Urban (City)   \n",
              "\n",
              "               Occupation                               Annual Family Income  \\\n",
              "0    Working Professional  Greater than or equal to 5 lakhs but less than...   \n",
              "1                 Student                  Greater than or equal to 10 lakhs   \n",
              "2                 Student  Greater than or equal to 5 lakhs but less than...   \n",
              "3                 Student  Greater than or equal to 1 lakhs but less than...   \n",
              "4                 Student  Greater than or equal to 1 lakhs but less than...   \n",
              "..                    ...                                                ...   \n",
              "194          Entrepreneur                  Greater than or equal to 10 lakhs   \n",
              "195              Business  Greater than or equal to 5 lakhs but less than...   \n",
              "196              Business  Greater than or equal to 5 lakhs but less than...   \n",
              "197              Business  Greater than or equal to 5 lakhs but less than...   \n",
              "198               Student                                  Less than 1 Lakhs   \n",
              "\n",
              "                    frequency  build_material_rating  texture_rating  \\\n",
              "0                       Never                    1.0             3.0   \n",
              "1                     Monthly                    1.0             1.0   \n",
              "2    Festivals and Occassions                    1.0             4.0   \n",
              "3                   Used Once                    5.0             4.0   \n",
              "4                     Monthly                    2.0             2.0   \n",
              "..                        ...                    ...             ...   \n",
              "194                 Used Once                    5.0             3.0   \n",
              "195                  Seasonal                    2.0             3.0   \n",
              "196                 Used Once                    2.0             3.0   \n",
              "197                     Never                    2.0             3.0   \n",
              "198                     Never                    3.0             3.0   \n",
              "\n",
              "     performance_rating  ...  \\\n",
              "0                   2.0  ...   \n",
              "1                   1.0  ...   \n",
              "2                   3.0  ...   \n",
              "3                   5.0  ...   \n",
              "4                   3.0  ...   \n",
              "..                  ...  ...   \n",
              "194                 4.0  ...   \n",
              "195                 2.0  ...   \n",
              "196                 2.0  ...   \n",
              "197                 2.0  ...   \n",
              "198                 3.0  ...   \n",
              "\n",
              "     Non availability of desired bamboo products in near market  \\\n",
              "0                                                  2.0            \n",
              "1                                                  2.0            \n",
              "2                                                  4.0            \n",
              "3                                                  5.0            \n",
              "4                                                  3.0            \n",
              "..                                                 ...            \n",
              "194                                                3.0            \n",
              "195                                                3.0            \n",
              "196                                                2.0            \n",
              "197                                                2.0            \n",
              "198                                                3.0            \n",
              "\n",
              "     Lack or no variety of products  Poor marketing of these products.  \\\n",
              "0                               2.0                                2.0   \n",
              "1                               2.0                                1.0   \n",
              "2                               3.0                                2.0   \n",
              "3                               3.0                                5.0   \n",
              "4                               3.0                                3.0   \n",
              "..                              ...                                ...   \n",
              "194                             2.0                                3.0   \n",
              "195                             3.0                                2.0   \n",
              "196                             3.0                                3.0   \n",
              "197                             2.0                                2.0   \n",
              "198                             4.0                                3.0   \n",
              "\n",
              "     Poor build and usage quality of bamboo products  \\\n",
              "0                                                2.0   \n",
              "1                                                3.0   \n",
              "2                                                1.0   \n",
              "3                                                1.0   \n",
              "4                                                2.0   \n",
              "..                                               ...   \n",
              "194                                              2.0   \n",
              "195                                              3.0   \n",
              "196                                              2.0   \n",
              "197                                              2.0   \n",
              "198                                              5.0   \n",
              "\n",
              "                               class  rating_subscription_service  \\\n",
              "0    I don't buy as I don't use them                          8.0   \n",
              "1                               Both                          8.0   \n",
              "2                               Both                          8.0   \n",
              "3                            Offline                          8.0   \n",
              "4                             Online                          5.0   \n",
              "..                               ...                          ...   \n",
              "194                             Both                          4.0   \n",
              "195                             Both                          7.0   \n",
              "196                             Both                          6.0   \n",
              "197                             Both                          4.0   \n",
              "198                             Both                          3.0   \n",
              "\n",
              "                         subscription_fees_suggestions  toxicity_aware  \\\n",
              "0    Upto 15% more than the price of other subscrip...             Yes   \n",
              "1    Equal to the price of other subscription produ...             Yes   \n",
              "2    Upto 15% more than the price of other subscrip...             Yes   \n",
              "3    Upto 10% more than the price of other subscrip...              No   \n",
              "4    Upto 5% more than the price of other subscript...              No   \n",
              "..                                                 ...             ...   \n",
              "194  Upto 10% more than the price of other subscrip...             Yes   \n",
              "195  Upto 10% more than the price of other subscrip...             Yes   \n",
              "196  Upto 10% more than the price of other subscrip...             Yes   \n",
              "197  Upto 5% more than the price of other subscript...             Yes   \n",
              "198  Upto 5% more than the price of other subscript...             Yes   \n",
              "\n",
              "     utilizing_bamboo_in_home  upliftment_bamboo_industry  \n",
              "0                         6.0                  Don't know  \n",
              "1                         7.0                  Don't know  \n",
              "2                         7.0                          No  \n",
              "3                         6.0                  Don't know  \n",
              "4                         5.0                         Yes  \n",
              "..                        ...                         ...  \n",
              "194                       4.0                          No  \n",
              "195                       3.0                          No  \n",
              "196                      10.0                          No  \n",
              "197                       4.0                         Yes  \n",
              "198                       2.0                          No  \n",
              "\n",
              "[199 rows x 26 columns]"
            ],
            "text/html": [
              "\n",
              "  <div id=\"df-00a22634-5513-41e2-8a63-65268471d400\">\n",
              "    <div class=\"colab-df-container\">\n",
              "      <div>\n",
              "<style scoped>\n",
              "    .dataframe tbody tr th:only-of-type {\n",
              "        vertical-align: middle;\n",
              "    }\n",
              "\n",
              "    .dataframe tbody tr th {\n",
              "        vertical-align: top;\n",
              "    }\n",
              "\n",
              "    .dataframe thead th {\n",
              "        text-align: right;\n",
              "    }\n",
              "</style>\n",
              "<table border=\"1\" class=\"dataframe\">\n",
              "  <thead>\n",
              "    <tr style=\"text-align: right;\">\n",
              "      <th></th>\n",
              "      <th>Gender</th>\n",
              "      <th>Age</th>\n",
              "      <th>Education Level</th>\n",
              "      <th>Location Type</th>\n",
              "      <th>Occupation</th>\n",
              "      <th>Annual Family Income</th>\n",
              "      <th>frequency</th>\n",
              "      <th>build_material_rating</th>\n",
              "      <th>texture_rating</th>\n",
              "      <th>performance_rating</th>\n",
              "      <th>...</th>\n",
              "      <th>Non availability of desired bamboo products in near market</th>\n",
              "      <th>Lack or no variety of products</th>\n",
              "      <th>Poor marketing of these products.</th>\n",
              "      <th>Poor build and usage quality of bamboo products</th>\n",
              "      <th>class</th>\n",
              "      <th>rating_subscription_service</th>\n",
              "      <th>subscription_fees_suggestions</th>\n",
              "      <th>toxicity_aware</th>\n",
              "      <th>utilizing_bamboo_in_home</th>\n",
              "      <th>upliftment_bamboo_industry</th>\n",
              "    </tr>\n",
              "  </thead>\n",
              "  <tbody>\n",
              "    <tr>\n",
              "      <th>0</th>\n",
              "      <td>Male</td>\n",
              "      <td>29-40</td>\n",
              "      <td>Post Graduate and above</td>\n",
              "      <td>Urban (City)</td>\n",
              "      <td>Working Professional</td>\n",
              "      <td>Greater than or equal to 5 lakhs but less than...</td>\n",
              "      <td>Never</td>\n",
              "      <td>1.0</td>\n",
              "      <td>3.0</td>\n",
              "      <td>2.0</td>\n",
              "      <td>...</td>\n",
              "      <td>2.0</td>\n",
              "      <td>2.0</td>\n",
              "      <td>2.0</td>\n",
              "      <td>2.0</td>\n",
              "      <td>I don't buy as I don't use them</td>\n",
              "      <td>8.0</td>\n",
              "      <td>Upto 15% more than the price of other subscrip...</td>\n",
              "      <td>Yes</td>\n",
              "      <td>6.0</td>\n",
              "      <td>Don't know</td>\n",
              "    </tr>\n",
              "    <tr>\n",
              "      <th>1</th>\n",
              "      <td>Male</td>\n",
              "      <td>18-28</td>\n",
              "      <td>Graduate</td>\n",
              "      <td>Sub Urban (Township)</td>\n",
              "      <td>Student</td>\n",
              "      <td>Greater than or equal to 10 lakhs</td>\n",
              "      <td>Monthly</td>\n",
              "      <td>1.0</td>\n",
              "      <td>1.0</td>\n",
              "      <td>1.0</td>\n",
              "      <td>...</td>\n",
              "      <td>2.0</td>\n",
              "      <td>2.0</td>\n",
              "      <td>1.0</td>\n",
              "      <td>3.0</td>\n",
              "      <td>Both</td>\n",
              "      <td>8.0</td>\n",
              "      <td>Equal to the price of other subscription produ...</td>\n",
              "      <td>Yes</td>\n",
              "      <td>7.0</td>\n",
              "      <td>Don't know</td>\n",
              "    </tr>\n",
              "    <tr>\n",
              "      <th>2</th>\n",
              "      <td>Male</td>\n",
              "      <td>18-28</td>\n",
              "      <td>Graduate</td>\n",
              "      <td>Rural (Village)</td>\n",
              "      <td>Student</td>\n",
              "      <td>Greater than or equal to 5 lakhs but less than...</td>\n",
              "      <td>Festivals and Occassions</td>\n",
              "      <td>1.0</td>\n",
              "      <td>4.0</td>\n",
              "      <td>3.0</td>\n",
              "      <td>...</td>\n",
              "      <td>4.0</td>\n",
              "      <td>3.0</td>\n",
              "      <td>2.0</td>\n",
              "      <td>1.0</td>\n",
              "      <td>Both</td>\n",
              "      <td>8.0</td>\n",
              "      <td>Upto 15% more than the price of other subscrip...</td>\n",
              "      <td>Yes</td>\n",
              "      <td>7.0</td>\n",
              "      <td>No</td>\n",
              "    </tr>\n",
              "    <tr>\n",
              "      <th>3</th>\n",
              "      <td>Male</td>\n",
              "      <td>29-40</td>\n",
              "      <td>Post Graduate and above</td>\n",
              "      <td>Urban (City)</td>\n",
              "      <td>Student</td>\n",
              "      <td>Greater than or equal to 1 lakhs but less than...</td>\n",
              "      <td>Used Once</td>\n",
              "      <td>5.0</td>\n",
              "      <td>4.0</td>\n",
              "      <td>5.0</td>\n",
              "      <td>...</td>\n",
              "      <td>5.0</td>\n",
              "      <td>3.0</td>\n",
              "      <td>5.0</td>\n",
              "      <td>1.0</td>\n",
              "      <td>Offline</td>\n",
              "      <td>8.0</td>\n",
              "      <td>Upto 10% more than the price of other subscrip...</td>\n",
              "      <td>No</td>\n",
              "      <td>6.0</td>\n",
              "      <td>Don't know</td>\n",
              "    </tr>\n",
              "    <tr>\n",
              "      <th>4</th>\n",
              "      <td>Male</td>\n",
              "      <td>18-28</td>\n",
              "      <td>Graduate</td>\n",
              "      <td>Sub Urban (Township)</td>\n",
              "      <td>Student</td>\n",
              "      <td>Greater than or equal to 1 lakhs but less than...</td>\n",
              "      <td>Monthly</td>\n",
              "      <td>2.0</td>\n",
              "      <td>2.0</td>\n",
              "      <td>3.0</td>\n",
              "      <td>...</td>\n",
              "      <td>3.0</td>\n",
              "      <td>3.0</td>\n",
              "      <td>3.0</td>\n",
              "      <td>2.0</td>\n",
              "      <td>Online</td>\n",
              "      <td>5.0</td>\n",
              "      <td>Upto 5% more than the price of other subscript...</td>\n",
              "      <td>No</td>\n",
              "      <td>5.0</td>\n",
              "      <td>Yes</td>\n",
              "    </tr>\n",
              "    <tr>\n",
              "      <th>...</th>\n",
              "      <td>...</td>\n",
              "      <td>...</td>\n",
              "      <td>...</td>\n",
              "      <td>...</td>\n",
              "      <td>...</td>\n",
              "      <td>...</td>\n",
              "      <td>...</td>\n",
              "      <td>...</td>\n",
              "      <td>...</td>\n",
              "      <td>...</td>\n",
              "      <td>...</td>\n",
              "      <td>...</td>\n",
              "      <td>...</td>\n",
              "      <td>...</td>\n",
              "      <td>...</td>\n",
              "      <td>...</td>\n",
              "      <td>...</td>\n",
              "      <td>...</td>\n",
              "      <td>...</td>\n",
              "      <td>...</td>\n",
              "      <td>...</td>\n",
              "    </tr>\n",
              "    <tr>\n",
              "      <th>194</th>\n",
              "      <td>Male</td>\n",
              "      <td>18-28</td>\n",
              "      <td>Under Graduate</td>\n",
              "      <td>Urban (City)</td>\n",
              "      <td>Entrepreneur</td>\n",
              "      <td>Greater than or equal to 10 lakhs</td>\n",
              "      <td>Used Once</td>\n",
              "      <td>5.0</td>\n",
              "      <td>3.0</td>\n",
              "      <td>4.0</td>\n",
              "      <td>...</td>\n",
              "      <td>3.0</td>\n",
              "      <td>2.0</td>\n",
              "      <td>3.0</td>\n",
              "      <td>2.0</td>\n",
              "      <td>Both</td>\n",
              "      <td>4.0</td>\n",
              "      <td>Upto 10% more than the price of other subscrip...</td>\n",
              "      <td>Yes</td>\n",
              "      <td>4.0</td>\n",
              "      <td>No</td>\n",
              "    </tr>\n",
              "    <tr>\n",
              "      <th>195</th>\n",
              "      <td>Male</td>\n",
              "      <td>18-28</td>\n",
              "      <td>Below High School</td>\n",
              "      <td>Urban (City)</td>\n",
              "      <td>Business</td>\n",
              "      <td>Greater than or equal to 5 lakhs but less than...</td>\n",
              "      <td>Seasonal</td>\n",
              "      <td>2.0</td>\n",
              "      <td>3.0</td>\n",
              "      <td>2.0</td>\n",
              "      <td>...</td>\n",
              "      <td>3.0</td>\n",
              "      <td>3.0</td>\n",
              "      <td>2.0</td>\n",
              "      <td>3.0</td>\n",
              "      <td>Both</td>\n",
              "      <td>7.0</td>\n",
              "      <td>Upto 10% more than the price of other subscrip...</td>\n",
              "      <td>Yes</td>\n",
              "      <td>3.0</td>\n",
              "      <td>No</td>\n",
              "    </tr>\n",
              "    <tr>\n",
              "      <th>196</th>\n",
              "      <td>Male</td>\n",
              "      <td>29-40</td>\n",
              "      <td>Post Graduate and above</td>\n",
              "      <td>Sub Urban (Township)</td>\n",
              "      <td>Business</td>\n",
              "      <td>Greater than or equal to 5 lakhs but less than...</td>\n",
              "      <td>Used Once</td>\n",
              "      <td>2.0</td>\n",
              "      <td>3.0</td>\n",
              "      <td>2.0</td>\n",
              "      <td>...</td>\n",
              "      <td>2.0</td>\n",
              "      <td>3.0</td>\n",
              "      <td>3.0</td>\n",
              "      <td>2.0</td>\n",
              "      <td>Both</td>\n",
              "      <td>6.0</td>\n",
              "      <td>Upto 10% more than the price of other subscrip...</td>\n",
              "      <td>Yes</td>\n",
              "      <td>10.0</td>\n",
              "      <td>No</td>\n",
              "    </tr>\n",
              "    <tr>\n",
              "      <th>197</th>\n",
              "      <td>Male</td>\n",
              "      <td>18-28</td>\n",
              "      <td>Post Graduate and above</td>\n",
              "      <td>Urban (City)</td>\n",
              "      <td>Business</td>\n",
              "      <td>Greater than or equal to 5 lakhs but less than...</td>\n",
              "      <td>Never</td>\n",
              "      <td>2.0</td>\n",
              "      <td>3.0</td>\n",
              "      <td>2.0</td>\n",
              "      <td>...</td>\n",
              "      <td>2.0</td>\n",
              "      <td>2.0</td>\n",
              "      <td>2.0</td>\n",
              "      <td>2.0</td>\n",
              "      <td>Both</td>\n",
              "      <td>4.0</td>\n",
              "      <td>Upto 5% more than the price of other subscript...</td>\n",
              "      <td>Yes</td>\n",
              "      <td>4.0</td>\n",
              "      <td>Yes</td>\n",
              "    </tr>\n",
              "    <tr>\n",
              "      <th>198</th>\n",
              "      <td>Male</td>\n",
              "      <td>18-28</td>\n",
              "      <td>Under Graduate</td>\n",
              "      <td>Urban (City)</td>\n",
              "      <td>Student</td>\n",
              "      <td>Less than 1 Lakhs</td>\n",
              "      <td>Never</td>\n",
              "      <td>3.0</td>\n",
              "      <td>3.0</td>\n",
              "      <td>3.0</td>\n",
              "      <td>...</td>\n",
              "      <td>3.0</td>\n",
              "      <td>4.0</td>\n",
              "      <td>3.0</td>\n",
              "      <td>5.0</td>\n",
              "      <td>Both</td>\n",
              "      <td>3.0</td>\n",
              "      <td>Upto 5% more than the price of other subscript...</td>\n",
              "      <td>Yes</td>\n",
              "      <td>2.0</td>\n",
              "      <td>No</td>\n",
              "    </tr>\n",
              "  </tbody>\n",
              "</table>\n",
              "<p>199 rows × 26 columns</p>\n",
              "</div>\n",
              "      <button class=\"colab-df-convert\" onclick=\"convertToInteractive('df-00a22634-5513-41e2-8a63-65268471d400')\"\n",
              "              title=\"Convert this dataframe to an interactive table.\"\n",
              "              style=\"display:none;\">\n",
              "        \n",
              "  <svg xmlns=\"http://www.w3.org/2000/svg\" height=\"24px\"viewBox=\"0 0 24 24\"\n",
              "       width=\"24px\">\n",
              "    <path d=\"M0 0h24v24H0V0z\" fill=\"none\"/>\n",
              "    <path d=\"M18.56 5.44l.94 2.06.94-2.06 2.06-.94-2.06-.94-.94-2.06-.94 2.06-2.06.94zm-11 1L8.5 8.5l.94-2.06 2.06-.94-2.06-.94L8.5 2.5l-.94 2.06-2.06.94zm10 10l.94 2.06.94-2.06 2.06-.94-2.06-.94-.94-2.06-.94 2.06-2.06.94z\"/><path d=\"M17.41 7.96l-1.37-1.37c-.4-.4-.92-.59-1.43-.59-.52 0-1.04.2-1.43.59L10.3 9.45l-7.72 7.72c-.78.78-.78 2.05 0 2.83L4 21.41c.39.39.9.59 1.41.59.51 0 1.02-.2 1.41-.59l7.78-7.78 2.81-2.81c.8-.78.8-2.07 0-2.86zM5.41 20L4 18.59l7.72-7.72 1.47 1.35L5.41 20z\"/>\n",
              "  </svg>\n",
              "      </button>\n",
              "      \n",
              "  <style>\n",
              "    .colab-df-container {\n",
              "      display:flex;\n",
              "      flex-wrap:wrap;\n",
              "      gap: 12px;\n",
              "    }\n",
              "\n",
              "    .colab-df-convert {\n",
              "      background-color: #E8F0FE;\n",
              "      border: none;\n",
              "      border-radius: 50%;\n",
              "      cursor: pointer;\n",
              "      display: none;\n",
              "      fill: #1967D2;\n",
              "      height: 32px;\n",
              "      padding: 0 0 0 0;\n",
              "      width: 32px;\n",
              "    }\n",
              "\n",
              "    .colab-df-convert:hover {\n",
              "      background-color: #E2EBFA;\n",
              "      box-shadow: 0px 1px 2px rgba(60, 64, 67, 0.3), 0px 1px 3px 1px rgba(60, 64, 67, 0.15);\n",
              "      fill: #174EA6;\n",
              "    }\n",
              "\n",
              "    [theme=dark] .colab-df-convert {\n",
              "      background-color: #3B4455;\n",
              "      fill: #D2E3FC;\n",
              "    }\n",
              "\n",
              "    [theme=dark] .colab-df-convert:hover {\n",
              "      background-color: #434B5C;\n",
              "      box-shadow: 0px 1px 3px 1px rgba(0, 0, 0, 0.15);\n",
              "      filter: drop-shadow(0px 1px 2px rgba(0, 0, 0, 0.3));\n",
              "      fill: #FFFFFF;\n",
              "    }\n",
              "  </style>\n",
              "\n",
              "      <script>\n",
              "        const buttonEl =\n",
              "          document.querySelector('#df-00a22634-5513-41e2-8a63-65268471d400 button.colab-df-convert');\n",
              "        buttonEl.style.display =\n",
              "          google.colab.kernel.accessAllowed ? 'block' : 'none';\n",
              "\n",
              "        async function convertToInteractive(key) {\n",
              "          const element = document.querySelector('#df-00a22634-5513-41e2-8a63-65268471d400');\n",
              "          const dataTable =\n",
              "            await google.colab.kernel.invokeFunction('convertToInteractive',\n",
              "                                                     [key], {});\n",
              "          if (!dataTable) return;\n",
              "\n",
              "          const docLinkHtml = 'Like what you see? Visit the ' +\n",
              "            '<a target=\"_blank\" href=https://colab.research.google.com/notebooks/data_table.ipynb>data table notebook</a>'\n",
              "            + ' to learn more about interactive tables.';\n",
              "          element.innerHTML = '';\n",
              "          dataTable['output_type'] = 'display_data';\n",
              "          await google.colab.output.renderOutput(dataTable, element);\n",
              "          const docLink = document.createElement('div');\n",
              "          docLink.innerHTML = docLinkHtml;\n",
              "          element.appendChild(docLink);\n",
              "        }\n",
              "      </script>\n",
              "    </div>\n",
              "  </div>\n",
              "  "
            ]
          },
          "metadata": {},
          "execution_count": 8
        }
      ]
    },
    {
      "cell_type": "markdown",
      "source": [
        "Preprocessing and Visualizing the data"
      ],
      "metadata": {
        "id": "6KbaxSEQQNbe"
      }
    },
    {
      "cell_type": "code",
      "source": [
        "def cls(cls):\n",
        "  if cls == \"I don't buy as I don't use them\":\n",
        "    return 0\n",
        "  else:\n",
        "    return 1\n",
        "df['class'] = df['class'].apply(cls)"
      ],
      "metadata": {
        "id": "lovMI5RjAYNG"
      },
      "execution_count": null,
      "outputs": []
    },
    {
      "cell_type": "code",
      "source": [
        "df['Gender'].unique()"
      ],
      "metadata": {
        "colab": {
          "base_uri": "https://localhost:8080/"
        },
        "id": "vYAuls4VmGVA",
        "outputId": "70cbc0be-144c-46ea-de16-f50789c19360"
      },
      "execution_count": null,
      "outputs": [
        {
          "output_type": "execute_result",
          "data": {
            "text/plain": [
              "array(['Male', 'Female', 'Prefer not to say'], dtype=object)"
            ]
          },
          "metadata": {},
          "execution_count": 10
        }
      ]
    },
    {
      "cell_type": "code",
      "source": [
        "def gender(gender):\n",
        "  if gender == 'Male':\n",
        "    return 0\n",
        "  if gender == 'Female':\n",
        "    return 1\n",
        "  else:\n",
        "    return 2\n",
        "df['Gender'] = df['Gender'].apply(gender)"
      ],
      "metadata": {
        "id": "XfDdVi4PelE2"
      },
      "execution_count": null,
      "outputs": []
    },
    {
      "cell_type": "code",
      "source": [
        "df['Age'].unique()"
      ],
      "metadata": {
        "colab": {
          "base_uri": "https://localhost:8080/"
        },
        "id": "G07ShLC_mE7Y",
        "outputId": "a5584bc1-7953-4bda-f84b-bafb969d2ea5"
      },
      "execution_count": null,
      "outputs": [
        {
          "output_type": "execute_result",
          "data": {
            "text/plain": [
              "array(['29-40', '18-28', 'Less than 18', '41-60'], dtype=object)"
            ]
          },
          "metadata": {},
          "execution_count": 13
        }
      ]
    },
    {
      "cell_type": "code",
      "source": [
        "def age_range(age):\n",
        "  if age == 'Less than 18':\n",
        "    return 0\n",
        "  if age == '18-28':\n",
        "    return 1\n",
        "  if age == '29-40':\n",
        "    return 2\n",
        "  if age == '41-60':\n",
        "    return 3\n",
        "  if age == '61 or above':\n",
        "    return 4\n",
        "df['Age'] = df['Age'].apply(age_range)"
      ],
      "metadata": {
        "id": "c8wIG7GXez__"
      },
      "execution_count": null,
      "outputs": []
    },
    {
      "cell_type": "code",
      "source": [
        "df['Education Level'].unique()"
      ],
      "metadata": {
        "colab": {
          "base_uri": "https://localhost:8080/"
        },
        "id": "h6Pyr9mLmETK",
        "outputId": "331f77fe-9269-487d-fadf-7e573de9d4f3"
      },
      "execution_count": null,
      "outputs": [
        {
          "output_type": "execute_result",
          "data": {
            "text/plain": [
              "array(['Post Graduate and above', 'Graduate', 'Intermediate (Class 12th)',\n",
              "       'Under Graduate', 'High School (Class 10th)', 'Illiterate',\n",
              "       'Below High School'], dtype=object)"
            ]
          },
          "metadata": {},
          "execution_count": 16
        }
      ]
    },
    {
      "cell_type": "code",
      "source": [
        "def education_level(el):\n",
        "  if el == 'Post Graduate and above':\n",
        "    return 0\n",
        "  if el == 'Illiterate':\n",
        "    return 1\n",
        "  if el == 'Below High School':\n",
        "    return 2\n",
        "  if el == 'High School (Class 10th)':\n",
        "    return 3\n",
        "  if el == 'Intermediate (Class 12th)':\n",
        "    return 4\n",
        "  if el == 'Under Graduate':\n",
        "    return 5\n",
        "  if el == 'Graduate':\n",
        "    return 6\n",
        "df['Education Level'] = df['Education Level'].apply(education_level)"
      ],
      "metadata": {
        "id": "7JMRkXm4jt2X"
      },
      "execution_count": null,
      "outputs": []
    },
    {
      "cell_type": "code",
      "source": [
        "df['Occupation'].unique()"
      ],
      "metadata": {
        "colab": {
          "base_uri": "https://localhost:8080/"
        },
        "id": "8nLd3y0YkPQH",
        "outputId": "6423f909-2d8e-4430-ca29-deaa6da8bf16"
      },
      "execution_count": null,
      "outputs": [
        {
          "output_type": "execute_result",
          "data": {
            "text/plain": [
              "array(['Working Professional', 'Student', 'Entrepreneur', 'Business',\n",
              "       'Homemaker'], dtype=object)"
            ]
          },
          "metadata": {},
          "execution_count": 19
        }
      ]
    },
    {
      "cell_type": "code",
      "source": [
        "def occupation(o):\n",
        "  if o == 'Working Professional':\n",
        "    return 0\n",
        "  if o == 'Student':\n",
        "    return 1\n",
        "  if o == 'Entrepreneur':\n",
        "    return 2\n",
        "  if o == 'Business':\n",
        "    return 3\n",
        "  if o == 'Homemaker':\n",
        "    return 4\n",
        "\n",
        "df['Occupation'] = df['Occupation'].apply(occupation)"
      ],
      "metadata": {
        "id": "qIyDQ_qbl3hz"
      },
      "execution_count": null,
      "outputs": []
    },
    {
      "cell_type": "code",
      "source": [
        "df['Location Type'].unique()"
      ],
      "metadata": {
        "colab": {
          "base_uri": "https://localhost:8080/"
        },
        "id": "2Gb55KcJodNM",
        "outputId": "e5c111f1-01e1-44eb-ba34-681de77a9502"
      },
      "execution_count": null,
      "outputs": [
        {
          "output_type": "execute_result",
          "data": {
            "text/plain": [
              "array(['Urban (City)', 'Sub Urban (Township)', 'Rural (Village)',\n",
              "       'Forest'], dtype=object)"
            ]
          },
          "metadata": {},
          "execution_count": 22
        }
      ]
    },
    {
      "cell_type": "code",
      "source": [
        "def location_type(loc):\n",
        "\n",
        "  if loc == 'Urban (City)':\n",
        "    return 0\n",
        "  if loc == 'Sub Urban (Township)':\n",
        "    return 1\n",
        "  if loc == 'Rural (Village)':\n",
        "    return 2\n",
        "  else:\n",
        "    return 3\n",
        "\n",
        "df['Location Type'] = df['Location Type'].apply(location_type)"
      ],
      "metadata": {
        "id": "iE1d4vC2odHC"
      },
      "execution_count": null,
      "outputs": []
    },
    {
      "cell_type": "code",
      "source": [
        "df['Annual Family Income'].unique()"
      ],
      "metadata": {
        "colab": {
          "base_uri": "https://localhost:8080/"
        },
        "id": "rfoU0yLIo_zS",
        "outputId": "c931ac3b-e081-4e9e-b3fb-6a0283316c8c"
      },
      "execution_count": null,
      "outputs": [
        {
          "output_type": "execute_result",
          "data": {
            "text/plain": [
              "array(['Greater than or equal to 5 lakhs but less than 10 lakhs',\n",
              "       'Greater than or equal to 10 lakhs',\n",
              "       'Greater than or equal to 1 lakhs but less than 5 lakhs',\n",
              "       'Less than 1 Lakhs'], dtype=object)"
            ]
          },
          "metadata": {},
          "execution_count": 26
        }
      ]
    },
    {
      "cell_type": "code",
      "source": [
        "def annual_family_income(afi):\n",
        "  if afi == 'Greater than or equal to 5 lakhs but less than 10 lakhs':\n",
        "    return 0\n",
        "  if afi == 'Greater than or equal to 10 lakhs':\n",
        "    return 1\n",
        "  if afi == 'Greater than or equal to 1 lakhs but less than 5 lakhs':\n",
        "    return 2\n",
        "  if afi == 'Less than 1 Lakhs':\n",
        "    return 3\n",
        "\n",
        "df['Annual Family Income'] = df['Annual Family Income'].apply(annual_family_income)"
      ],
      "metadata": {
        "id": "NGecvubHpM4L"
      },
      "execution_count": null,
      "outputs": []
    },
    {
      "cell_type": "code",
      "source": [
        "df['frequency'].unique()"
      ],
      "metadata": {
        "colab": {
          "base_uri": "https://localhost:8080/"
        },
        "id": "2UArfDqeqMYp",
        "outputId": "fc726b1b-e98e-4f8e-ff82-a9fe6a6fcac0"
      },
      "execution_count": null,
      "outputs": [
        {
          "output_type": "execute_result",
          "data": {
            "text/plain": [
              "array(['Never', 'Monthly', 'Festivals and Occassions', 'Used Once',\n",
              "       'Seasonal', 'Daily', 'Weekly'], dtype=object)"
            ]
          },
          "metadata": {},
          "execution_count": 28
        }
      ]
    },
    {
      "cell_type": "code",
      "source": [
        "def frequency(freq):\n",
        "  if freq == 'Never':\n",
        "    return 0\n",
        "  if freq == 'Monthly':\n",
        "    return 1\n",
        "  if freq == 'Festivals and Occassions':\n",
        "    return 2\n",
        "  if freq == 'Used Once':\n",
        "    return 3\n",
        "  if freq == 'Seasonal':\n",
        "    return 4\n",
        "  if freq == 'Daily':\n",
        "    return 5\n",
        "  if freq == 'Weekly':\n",
        "    return 6\n",
        "df['frequency'] = df['frequency'].apply(frequency)"
      ],
      "metadata": {
        "id": "_JpLSzNyqgt9"
      },
      "execution_count": null,
      "outputs": []
    },
    {
      "cell_type": "code",
      "source": [
        "df['rating_subscription_service'].unique()"
      ],
      "metadata": {
        "colab": {
          "base_uri": "https://localhost:8080/"
        },
        "id": "qBXntC20rNtN",
        "outputId": "37d41a64-8f7a-421d-be57-5f6c54bc7f61"
      },
      "execution_count": null,
      "outputs": [
        {
          "output_type": "execute_result",
          "data": {
            "text/plain": [
              "array([ 8.,  5.,  7.,  9.,  4.,  6., 10.,  3.,  1.,  2.])"
            ]
          },
          "metadata": {},
          "execution_count": 31
        }
      ]
    },
    {
      "cell_type": "code",
      "source": [
        "df['subscription_fees_suggestions'].unique()"
      ],
      "metadata": {
        "colab": {
          "base_uri": "https://localhost:8080/"
        },
        "id": "MhhIyPZ9wRJc",
        "outputId": "0ca17ad8-1650-4114-e961-3104baf8c8b3"
      },
      "execution_count": null,
      "outputs": [
        {
          "output_type": "execute_result",
          "data": {
            "text/plain": [
              "array(['Upto 15% more than the price of other subscription products you pay for, either product or service.',\n",
              "       'Equal to the price of other subscription products you pay for, either product or service.',\n",
              "       'Upto 10% more than the price of other subscription products you pay for, either product or service.',\n",
              "       'Upto 5% more than the price of other subscription products you pay for, either product or service.'],\n",
              "      dtype=object)"
            ]
          },
          "metadata": {},
          "execution_count": 33
        }
      ]
    },
    {
      "cell_type": "code",
      "source": [
        "def subscription_fees_suggestions(sfs):\n",
        "  if sfs == 'Upto 15% more than the price of other subscription products you pay for, either product or service.':\n",
        "    return 0\n",
        "  if sfs == 'Equal to the price of other subscription products you pay for, either product or service.':\n",
        "    return 1\n",
        "  if sfs == 'Upto 10% more than the price of other subscription products you pay for, either product or service.':\n",
        "    return 2\n",
        "  if sfs == 'Upto 5% more than the price of other subscription products you pay for, either product or service.':\n",
        "    return 3\n",
        "\n",
        "df['subscription_fees_suggestions'] = df['subscription_fees_suggestions'].apply(subscription_fees_suggestions)"
      ],
      "metadata": {
        "id": "x2rWtirLwR8i"
      },
      "execution_count": null,
      "outputs": []
    },
    {
      "cell_type": "code",
      "source": [
        "df['toxicity_aware'].unique()"
      ],
      "metadata": {
        "colab": {
          "base_uri": "https://localhost:8080/"
        },
        "id": "BPCVvWR_xUQf",
        "outputId": "b6c698f9-3fc7-48fe-9d2d-e065e6a49c19"
      },
      "execution_count": null,
      "outputs": [
        {
          "output_type": "execute_result",
          "data": {
            "text/plain": [
              "array(['Yes', 'No'], dtype=object)"
            ]
          },
          "metadata": {},
          "execution_count": 35
        }
      ]
    },
    {
      "cell_type": "code",
      "source": [
        "def toxicity_aware(ta):\n",
        "  if ta == 'Yes':\n",
        "    return 0\n",
        "  if ta == 'No':\n",
        "    return 1\n",
        "\n",
        "\n",
        "df['toxicity_aware'] = df['toxicity_aware'].apply(toxicity_aware)"
      ],
      "metadata": {
        "id": "UZ-7S97NxXzv"
      },
      "execution_count": null,
      "outputs": []
    },
    {
      "cell_type": "code",
      "source": [
        "df['utilizing_bamboo_in_home'].unique()"
      ],
      "metadata": {
        "colab": {
          "base_uri": "https://localhost:8080/"
        },
        "id": "FuqpAoQHyBwm",
        "outputId": "439abe0b-c7e6-44f1-a416-fc08250e0192"
      },
      "execution_count": null,
      "outputs": [
        {
          "output_type": "execute_result",
          "data": {
            "text/plain": [
              "array([ 6.,  7.,  5., 10.,  8.,  9.,  3.,  4.,  1.,  2.])"
            ]
          },
          "metadata": {},
          "execution_count": 38
        }
      ]
    },
    {
      "cell_type": "code",
      "source": [
        "df['upliftment_bamboo_industry'].unique()"
      ],
      "metadata": {
        "colab": {
          "base_uri": "https://localhost:8080/"
        },
        "id": "SYAzm8LeyD0Z",
        "outputId": "4ea0ebbf-dbdb-481a-e045-16844b510445"
      },
      "execution_count": null,
      "outputs": [
        {
          "output_type": "execute_result",
          "data": {
            "text/plain": [
              "array([\"Don't know\", 'No', 'Yes'], dtype=object)"
            ]
          },
          "metadata": {},
          "execution_count": 40
        }
      ]
    },
    {
      "cell_type": "code",
      "source": [
        "def upliftment_bamboo_industry(upi):\n",
        "  if upi == 'Yes':\n",
        "    return 0\n",
        "  if upi == 'No':\n",
        "    return 1\n",
        "  else:\n",
        "    return 2\n",
        "\n",
        "\n",
        "df['upliftment_bamboo_industry'] = df['upliftment_bamboo_industry'].apply(upliftment_bamboo_industry)"
      ],
      "metadata": {
        "id": "MJjF73EJyIY2"
      },
      "execution_count": null,
      "outputs": []
    },
    {
      "cell_type": "code",
      "source": [
        "df['build_material_rating'].unique()"
      ],
      "metadata": {
        "colab": {
          "base_uri": "https://localhost:8080/"
        },
        "id": "8lv94uws3HRL",
        "outputId": "6f0c0fb5-e9d2-4784-dc73-9d016fe6e680"
      },
      "execution_count": null,
      "outputs": [
        {
          "output_type": "execute_result",
          "data": {
            "text/plain": [
              "array([ 1.,  5.,  2.,  4.,  3., nan])"
            ]
          },
          "metadata": {},
          "execution_count": 43
        }
      ]
    },
    {
      "cell_type": "code",
      "source": [
        "def neg_nan(upi):\n",
        "  if upi == 1:\n",
        "    return 1\n",
        "  if upi == 2:\n",
        "    return 2\n",
        "  if upi == 3:\n",
        "    return 3\n",
        "  if upi == 4:\n",
        "    return 4\n",
        "  if upi == 5:\n",
        "    return 5\n",
        "  else:\n",
        "    return 0\n",
        "\n",
        "\n",
        "df['build_material_rating'] = df['build_material_rating'].apply(neg_nan)\n",
        "df['texture_rating'] = df['texture_rating'].apply(neg_nan)\n",
        "df['performance_rating'] = df['performance_rating'].apply(neg_nan)\n",
        "df['reliability_rating'] = df['reliability_rating'].apply(neg_nan)\n",
        "df['features_rating'] = df['features_rating'].apply(neg_nan)"
      ],
      "metadata": {
        "id": "pR5NTJ7G2yaZ"
      },
      "execution_count": null,
      "outputs": []
    },
    {
      "cell_type": "code",
      "source": [
        "df.info()"
      ],
      "metadata": {
        "colab": {
          "base_uri": "https://localhost:8080/"
        },
        "id": "33X5V4Biz4th",
        "outputId": "659e8c57-7bfb-489c-cc89-eaf53044bfce"
      },
      "execution_count": null,
      "outputs": [
        {
          "output_type": "stream",
          "name": "stdout",
          "text": [
            "<class 'pandas.core.frame.DataFrame'>\n",
            "RangeIndex: 199 entries, 0 to 198\n",
            "Data columns (total 26 columns):\n",
            " #   Column                                                           Non-Null Count  Dtype  \n",
            "---  ------                                                           --------------  -----  \n",
            " 0   Gender                                                           199 non-null    int64  \n",
            " 1   Age                                                              199 non-null    int64  \n",
            " 2   Education Level                                                  199 non-null    int64  \n",
            " 3   Location Type                                                    199 non-null    int64  \n",
            " 4   Occupation                                                       199 non-null    int64  \n",
            " 5   Annual Family Income                                             199 non-null    int64  \n",
            " 6   frequency                                                        199 non-null    int64  \n",
            " 7   build_material_rating                                            199 non-null    int64  \n",
            " 8   texture_rating                                                   199 non-null    int64  \n",
            " 9   performance_rating                                               199 non-null    int64  \n",
            " 10  reliability_rating                                               199 non-null    int64  \n",
            " 11  features_rating                                                  199 non-null    int64  \n",
            " 12  Breakable nature of bamboo products.                             199 non-null    float64\n",
            " 13  Resembled as poor man's product                                  199 non-null    float64\n",
            " 14  Available of other competitive products which are more durable.  199 non-null    float64\n",
            " 15  Maintenance issues                                               199 non-null    float64\n",
            " 16  Non availability of desired bamboo products in near market       199 non-null    float64\n",
            " 17  Lack or no variety of products                                   199 non-null    float64\n",
            " 18  Poor marketing of these products.                                199 non-null    float64\n",
            " 19  Poor build and usage quality of bamboo products                  199 non-null    float64\n",
            " 20  class                                                            199 non-null    int64  \n",
            " 21  rating_subscription_service                                      199 non-null    float64\n",
            " 22  subscription_fees_suggestions                                    199 non-null    int64  \n",
            " 23  toxicity_aware                                                   199 non-null    int64  \n",
            " 24  utilizing_bamboo_in_home                                         199 non-null    float64\n",
            " 25  upliftment_bamboo_industry                                       199 non-null    int64  \n",
            "dtypes: float64(10), int64(16)\n",
            "memory usage: 40.5 KB\n"
          ]
        }
      ]
    },
    {
      "cell_type": "code",
      "source": [
        "X_train = df.drop(\"class\", axis=1)\n",
        "Y_train = df[\"class\"]"
      ],
      "metadata": {
        "id": "BjRg3bzu14jd"
      },
      "execution_count": null,
      "outputs": []
    },
    {
      "cell_type": "code",
      "source": [
        "X_train.shape, Y_train.shape"
      ],
      "metadata": {
        "colab": {
          "base_uri": "https://localhost:8080/"
        },
        "id": "CgBQXvyT158C",
        "outputId": "939bc5f1-f0e5-473e-ed86-2755dfe872c1"
      },
      "execution_count": null,
      "outputs": [
        {
          "output_type": "execute_result",
          "data": {
            "text/plain": [
              "((199, 25), (199,))"
            ]
          },
          "metadata": {},
          "execution_count": 50
        }
      ]
    },
    {
      "cell_type": "markdown",
      "source": [
        "Bulding Logistic Regression from scratch"
      ],
      "metadata": {
        "id": "P_QdYW4n-ILb"
      }
    },
    {
      "cell_type": "code",
      "source": [
        "# Importing libraries\n",
        "import numpy as np\n",
        "import pandas as pd\n",
        "from sklearn.model_selection import train_test_split\n",
        "import warnings\n",
        "warnings.filterwarnings( \"ignore\" )\n",
        "\n",
        "# to compare our model's accuracy with sklearn model\n",
        "from sklearn.linear_model import LogisticRegression\n",
        "# Logistic Regression\n",
        "class LogitRegression() :\n",
        "\tdef __init__( self, learning_rate, iterations ) :\t\t\n",
        "\t\tself.learning_rate = learning_rate\t\t\n",
        "\t\tself.iterations = iterations\n",
        "\t\t\n",
        "\t# Function for model training\t\n",
        "\tdef fit( self, X, Y ) :\t\t\n",
        "\t\t# no_of_training_examples, no_of_features\t\t\n",
        "\t\tself.m, self.n = X.shape\t\t\n",
        "\t\t# weight initialization\t\t\n",
        "\t\tself.W = np.zeros( self.n )\t\t\n",
        "\t\tself.b = 0\t\t\n",
        "\t\tself.X = X\t\t\n",
        "\t\tself.Y = Y\n",
        "\t\t\n",
        "\t\t# gradient descent learning\n",
        "\t\t\t\t\n",
        "\t\tfor i in range( self.iterations ) :\t\t\t\n",
        "\t\t\tself.update_weights()\t\t\t\n",
        "\t\treturn self\n",
        "\t\n",
        "\t# Helper function to update weights in gradient descent\n",
        "\t\n",
        "\tdef update_weights( self ) :\t\t\n",
        "\t\tA = 1 / ( 1 + np.exp( - ( self.X.dot( self.W ) + self.b ) ) )\n",
        "\t\t\n",
        "\t\t# calculate gradients\t\t\n",
        "\t\ttmp = ( A - self.Y.T )\t\t\n",
        "\t\ttmp = np.reshape( tmp, self.m )\t\t\n",
        "\t\tdW = np.dot( self.X.T, tmp ) / self.m\t\t\n",
        "\t\tdb = np.sum( tmp ) / self.m\n",
        "\t\t\n",
        "\t\t# update weights\t\n",
        "\t\tself.W = self.W - self.learning_rate * dW\t\n",
        "\t\tself.b = self.b - self.learning_rate * db\n",
        "\t\t\n",
        "\t\treturn self\n",
        "\t\n",
        "\t# Hypothetical function h( x )\n",
        "\t\n",
        "\tdef predict( self, X ) :\t\n",
        "\t\tZ = 1 / ( 1 + np.exp( - ( X.dot( self.W ) + self.b ) ) )\t\t\n",
        "\t\tY = np.where( Z > 0.5, 1, 0 )\t\t\n",
        "\t\treturn Y\n",
        "\n",
        "\n",
        "# Driver code\n",
        "\n",
        "def main() :\n",
        "\t\n",
        "\t# Importing dataset\t\n",
        "\tX = df.drop(\"class\", axis=1)\n",
        "\tY = df[\"class\"]\n",
        "\t\n",
        "\t# Splitting dataset into train and test set\n",
        "\tX_train, X_test, Y_train, Y_test = train_test_split(X, Y, test_size = 0.2, random_state = 0 )\n",
        "\t\n",
        "\t# Model training\t\n",
        "\tmodel = LogitRegression( learning_rate = 0.01, iterations = 1000 )\n",
        "\t\n",
        "\tmodel.fit( X_train, Y_train )\t\n",
        "\tmodel1 = LogisticRegression()\t\n",
        "\tmodel1.fit( X_train, Y_train)\n",
        "\t\n",
        "\t# Prediction on test set\n",
        "\tY_pred = model.predict( X_test )\t\n",
        "\tY_pred1 = model1.predict( X_test )\n",
        "\t\n",
        "\t# measure performance\t\n",
        "\tcorrectly_classified = 0\t\n",
        "\tcorrectly_classified1 = 0\n",
        "\tY_test =Y_test.tolist()\n",
        "\t# counter\t\n",
        "\tcount = 0\t\n",
        "\tfor count in range( np.size( Y_pred ) ) :\n",
        "\t\t\n",
        "\t\tif Y_test[count] == Y_pred[count] :\t\t\t\n",
        "\t\t\tcorrectly_classified = correctly_classified + 1\n",
        "\t\t\n",
        "\t\tif Y_test[count] == Y_pred1[count] :\t\t\t\n",
        "\t\t\tcorrectly_classified1 = correctly_classified1 + 1\n",
        "\t\t\t\n",
        "\t\tcount = count + 1\n",
        "\t\t\n",
        "\tprint( \"Accuracy on test set by our model\t : \", (\n",
        "\tcorrectly_classified / count ) * 100 )\n",
        "\tprint( \"Accuracy on test set by sklearn model : \", (\n",
        "\tcorrectly_classified1 / count ) * 100 )\n",
        "\n",
        "\n",
        "if __name__ == \"__main__\" :\t\n",
        "\tmain()\n"
      ],
      "metadata": {
        "colab": {
          "base_uri": "https://localhost:8080/"
        },
        "id": "kU84IL2azYto",
        "outputId": "002a96c6-377b-4066-8792-70919a554ec8"
      },
      "execution_count": null,
      "outputs": [
        {
          "output_type": "stream",
          "name": "stdout",
          "text": [
            "Accuracy on test set by our model\t :  90.0\n",
            "Accuracy on test set by sklearn model :  92.5\n"
          ]
        }
      ]
    },
    {
      "cell_type": "markdown",
      "source": [
        "Bulding SVM from Scratch"
      ],
      "metadata": {
        "id": "yXe15-W8-UiD"
      }
    },
    {
      "cell_type": "code",
      "source": [
        "import numpy as np \n",
        "from sklearn.svm import SVC\n",
        "\n",
        "\n",
        "class SVM:\n",
        "\n",
        "    def __init__(self, C = 1.0):\n",
        "        # C = error term\n",
        "        self.C = C\n",
        "        self.w = 0\n",
        "        self.b = 0\n",
        "\n",
        "    # Hinge Loss Function / Calculation\n",
        "    def hingeloss(self, w, b, x, y):\n",
        "        # Regularizer term\n",
        "        reg = 0.5 * (w * w)\n",
        "\n",
        "        for i in range(x.shape[0]):\n",
        "            # Optimization term\n",
        "            opt_term = y[i] * ((np.dot(w, x[i])) + b)\n",
        "\n",
        "            # calculating loss\n",
        "            loss = reg + self.C * max(0, 1-opt_term)\n",
        "        return loss[0][0]\n",
        "\n",
        "    def fit(self, X, Y, batch_size=100, learning_rate=0.001, epochs=1000):\n",
        "        # The number of features in X\n",
        "        number_of_features = X.shape[1]\n",
        "\n",
        "        # The number of Samples in X\n",
        "        number_of_samples = X.shape[0]\n",
        "\n",
        "        c = self.C\n",
        "\n",
        "        # Creating ids from 0 to number_of_samples - 1\n",
        "        ids = np.arange(number_of_samples)\n",
        "\n",
        "        # Shuffling the samples randomly\n",
        "        np.random.shuffle(ids)\n",
        "\n",
        "        # creating an array of zeros\n",
        "        w = np.zeros((1, number_of_features))\n",
        "        b = 0\n",
        "        losses = []\n",
        "\n",
        "        # Gradient Descent logic\n",
        "        for i in range(epochs):\n",
        "            # Calculating the Hinge Loss\n",
        "            l = self.hingeloss(w, b, X, Y)\n",
        "\n",
        "            # Appending all losses \n",
        "            losses.append(l)\n",
        "            \n",
        "            # Starting from 0 to the number of samples with batch_size as interval\n",
        "            for batch_initial in range(0, number_of_samples, batch_size):\n",
        "                gradw = 0\n",
        "                gradb = 0\n",
        "\n",
        "                for j in range(batch_initial, batch_initial+ batch_size):\n",
        "                    if j < number_of_samples:\n",
        "                        x = ids[j]\n",
        "                        ti = Y[x] * (np.dot(w, X[x].T) + b)\n",
        "\n",
        "                        if ti > 1:\n",
        "                            gradw += 0\n",
        "                            gradb += 0\n",
        "                        else:\n",
        "                            # Calculating the gradients\n",
        "\n",
        "                            #w.r.t w \n",
        "                            gradw += c * Y[x] * X[x]\n",
        "                            # w.r.t b\n",
        "                            gradb += c * Y[x]\n",
        "\n",
        "                # Updating weights and bias\n",
        "                w = w - learning_rate * w + learning_rate * gradw\n",
        "                b = b + learning_rate * gradb\n",
        "        \n",
        "        self.w = w\n",
        "        self.b = b\n",
        "\n",
        "        return self.w, self.b, losses\n",
        "\n",
        "    def predict(self, X):\n",
        "        \n",
        "        prediction = np.dot(X, self.w[0]) + self.b # w.x + b\n",
        "        return np.sign(prediction)\n",
        "# Driver code\n",
        "\n",
        "def main() :\n",
        "\t\n",
        "\t# Importing dataset\t\n",
        "\tX = df.drop(\"class\", axis=1)\n",
        "\tY = df[\"class\"]\n",
        "\t\n",
        "\t# Splitting dataset into train and test set\n",
        "\tX_train, X_test, Y_train, Y_test = train_test_split(X, Y, test_size = 0.2, random_state = 0 )\n",
        "\t\n",
        "\t# Model training\t\n",
        "\tmodel = SVM()\n",
        "\tY_train = np.array(Y_train)\n",
        "\tX_train = np.array(X_train)\n",
        "\tmodel.fit( X_train, Y_train )\t\n",
        "\tmodel1 = SVC()\t\n",
        "\tmodel1.fit( X_train, Y_train)\n",
        "\t\n",
        "\t# Prediction on test set\n",
        "\tY_pred = model.predict( X_test )\t\n",
        "\tY_pred1 = model1.predict( X_test )\n",
        "\t# measure performance\t\n",
        "\tcorrectly_classified = 0\t\n",
        "\tcorrectly_classified1 = 0\n",
        "\tY_test =Y_test.tolist()\n",
        "\t# counter\t\n",
        "\tcount = 0\t\n",
        "\tfor count in range( np.size( Y_pred ) ) :\n",
        "\t\t\n",
        "\t\tif Y_test[count] == Y_pred[count] :\t\t\t\n",
        "\t\t\tcorrectly_classified = correctly_classified + 1\n",
        "\t\t\n",
        "\t\tif Y_test[count] == Y_pred1[count] :\t\t\t\n",
        "\t\t\tcorrectly_classified1 = correctly_classified1 + 1\n",
        "\t\t\t\n",
        "\t\tcount = count + 1\n",
        "\t\t\n",
        "\tprint( \"Accuracy on test set by our model\t : \", (\n",
        "\tcorrectly_classified / count ) * 100 )\n",
        "\tprint( \"Accuracy on test set by sklearn model : \", (\n",
        "\tcorrectly_classified1 / count ) * 100 )\n",
        "\n",
        "\n",
        "if __name__ == \"__main__\" :\t\n",
        "\tmain()"
      ],
      "metadata": {
        "colab": {
          "base_uri": "https://localhost:8080/"
        },
        "id": "lSzTYhJF19b_",
        "outputId": "9d02f8e3-a806-4bb2-ce63-2600c7311c13"
      },
      "execution_count": null,
      "outputs": [
        {
          "output_type": "stream",
          "name": "stdout",
          "text": [
            "Accuracy on test set by our model\t :  90.0\n",
            "Accuracy on test set by sklearn model :  90.0\n"
          ]
        }
      ]
    }
  ]
}